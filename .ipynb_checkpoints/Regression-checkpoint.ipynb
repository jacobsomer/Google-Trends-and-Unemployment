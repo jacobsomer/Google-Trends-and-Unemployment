{
 "cells": [
  {
   "cell_type": "code",
   "execution_count": 30,
   "metadata": {},
   "outputs": [],
   "source": [
    "import datetime\n",
    "import pandas as pd\n",
    "import numpy as np\n",
    "from matplotlib import pyplot as plt\n",
    "import pmdarima"
   ]
  },
  {
   "cell_type": "code",
   "execution_count": 31,
   "metadata": {},
   "outputs": [],
   "source": [
    "unemployment=pd.read_excel(\"InitialClaims.xls\")\n",
    "t=unemployment['FRED Graph Observations'].tolist()\n",
    "c=unemployment['Unnamed: 1'].tolist()\n",
    "time=[]\n",
    "claims=[]\n",
    "for i in t:\n",
    "    if isinstance(i, datetime.datetime):\n",
    "        time.append(i)\n",
    "for j in c:\n",
    "    if isinstance(j,int):\n",
    "        claims.append(j)\n",
    "d={'claims':claims,'date': time}\n",
    "unemployment=pd.DataFrame(d)\n",
    "unemployment=unemployment.set_index(\"date\")\n",
    "unemployment.tail()\n",
    "unemployment=unemployment.loc['2004-01-10':'2020-12-28']\n",
    "df=unemployment"
   ]
  },
  {
   "cell_type": "code",
   "execution_count": 32,
   "metadata": {},
   "outputs": [
    {
     "data": {
      "text/html": [
       "<div>\n",
       "<style scoped>\n",
       "    .dataframe tbody tr th:only-of-type {\n",
       "        vertical-align: middle;\n",
       "    }\n",
       "\n",
       "    .dataframe tbody tr th {\n",
       "        vertical-align: top;\n",
       "    }\n",
       "\n",
       "    .dataframe thead th {\n",
       "        text-align: right;\n",
       "    }\n",
       "</style>\n",
       "<table border=\"1\" class=\"dataframe\">\n",
       "  <thead>\n",
       "    <tr style=\"text-align: right;\">\n",
       "      <th></th>\n",
       "      <th>claims</th>\n",
       "    </tr>\n",
       "    <tr>\n",
       "      <th>date</th>\n",
       "      <th></th>\n",
       "    </tr>\n",
       "  </thead>\n",
       "  <tbody>\n",
       "    <tr>\n",
       "      <th>2004-01-10</th>\n",
       "      <td>354000</td>\n",
       "    </tr>\n",
       "    <tr>\n",
       "      <th>2004-01-17</th>\n",
       "      <td>362000</td>\n",
       "    </tr>\n",
       "    <tr>\n",
       "      <th>2004-01-24</th>\n",
       "      <td>353000</td>\n",
       "    </tr>\n",
       "    <tr>\n",
       "      <th>2004-01-31</th>\n",
       "      <td>376000</td>\n",
       "    </tr>\n",
       "    <tr>\n",
       "      <th>2004-02-07</th>\n",
       "      <td>380000</td>\n",
       "    </tr>\n",
       "  </tbody>\n",
       "</table>\n",
       "</div>"
      ],
      "text/plain": [
       "            claims\n",
       "date              \n",
       "2004-01-10  354000\n",
       "2004-01-17  362000\n",
       "2004-01-24  353000\n",
       "2004-01-31  376000\n",
       "2004-02-07  380000"
      ]
     },
     "execution_count": 32,
     "metadata": {},
     "output_type": "execute_result"
    }
   ],
   "source": [
    "unemployment.head()"
   ]
  },
  {
   "cell_type": "code",
   "execution_count": null,
   "metadata": {},
   "outputs": [],
   "source": []
  },
  {
   "cell_type": "code",
   "execution_count": 33,
   "metadata": {},
   "outputs": [],
   "source": [
    "def buildLaggedFeatures(s,lag=1,dropna=True):\n",
    "    '''\n",
    "    Builds a new DataFrame to facilitate regressing over all possible lagged features\n",
    "    '''\n",
    "    if type(s) is pd.DataFrame:\n",
    "        new_dict={}\n",
    "        for col_name in s:\n",
    "            new_dict[col_name]=s[col_name]\n",
    "            # create lagged Series\n",
    "            for l in range(1,lag+1):\n",
    "                new_dict['%s_lag%d' %(col_name,l)]=s[col_name].shift(l)\n",
    "        res=pd.DataFrame(new_dict,index=s.index)\n",
    "\n",
    "    elif type(s) is pd.Series:\n",
    "        the_range=range(lag+1)\n",
    "        res=pd.concat([s.shift(i) for i in the_range],axis=1)\n",
    "        res.columns=['lag_%d' %i for i in the_range]\n",
    "    else:\n",
    "        return None\n",
    "    if dropna:\n",
    "        return res.dropna()\n",
    "    else:\n",
    "        return res \n"
   ]
  },
  {
   "cell_type": "code",
   "execution_count": 34,
   "metadata": {},
   "outputs": [
    {
     "name": "stdout",
     "output_type": "stream",
     "text": [
      "pvalue =  6.407667100185449e-05    13  if above 0.05, data is not stationary\n"
     ]
    }
   ],
   "source": [
    "from statsmodels.tsa.stattools import adfuller\n",
    "adf, pvalue, usedlag_, nobs_, critical_values_, icbest_ = adfuller(df)\n",
    "print(\"pvalue = \", pvalue,\"  \", usedlag_, \" if above 0.05, data is not stationary\")"
   ]
  },
  {
   "cell_type": "code",
   "execution_count": null,
   "metadata": {},
   "outputs": [],
   "source": []
  },
  {
   "cell_type": "code",
   "execution_count": 35,
   "metadata": {},
   "outputs": [
    {
     "data": {
      "text/html": [
       "<div>\n",
       "<style scoped>\n",
       "    .dataframe tbody tr th:only-of-type {\n",
       "        vertical-align: middle;\n",
       "    }\n",
       "\n",
       "    .dataframe tbody tr th {\n",
       "        vertical-align: top;\n",
       "    }\n",
       "\n",
       "    .dataframe thead th {\n",
       "        text-align: right;\n",
       "    }\n",
       "</style>\n",
       "<table border=\"1\" class=\"dataframe\">\n",
       "  <thead>\n",
       "    <tr style=\"text-align: right;\">\n",
       "      <th></th>\n",
       "      <th>claims</th>\n",
       "      <th>claims_lag1</th>\n",
       "      <th>claims_lag2</th>\n",
       "      <th>claims_lag3</th>\n",
       "      <th>claims_lag4</th>\n",
       "      <th>claims_lag5</th>\n",
       "      <th>claims_lag6</th>\n",
       "      <th>claims_lag7</th>\n",
       "      <th>claims_lag8</th>\n",
       "      <th>claims_lag9</th>\n",
       "      <th>claims_lag10</th>\n",
       "      <th>claims_lag11</th>\n",
       "      <th>claims_lag12</th>\n",
       "      <th>claims_lag13</th>\n",
       "    </tr>\n",
       "    <tr>\n",
       "      <th>date</th>\n",
       "      <th></th>\n",
       "      <th></th>\n",
       "      <th></th>\n",
       "      <th></th>\n",
       "      <th></th>\n",
       "      <th></th>\n",
       "      <th></th>\n",
       "      <th></th>\n",
       "      <th></th>\n",
       "      <th></th>\n",
       "      <th></th>\n",
       "      <th></th>\n",
       "      <th></th>\n",
       "      <th></th>\n",
       "    </tr>\n",
       "  </thead>\n",
       "  <tbody>\n",
       "    <tr>\n",
       "      <th>2004-04-10</th>\n",
       "      <td>355000</td>\n",
       "      <td>335000.0</td>\n",
       "      <td>340000.0</td>\n",
       "      <td>346000.0</td>\n",
       "      <td>338000.0</td>\n",
       "      <td>344000.0</td>\n",
       "      <td>348000.0</td>\n",
       "      <td>359000.0</td>\n",
       "      <td>356000.0</td>\n",
       "      <td>380000.0</td>\n",
       "      <td>376000.0</td>\n",
       "      <td>353000.0</td>\n",
       "      <td>362000.0</td>\n",
       "      <td>354000.0</td>\n",
       "    </tr>\n",
       "    <tr>\n",
       "      <th>2004-04-17</th>\n",
       "      <td>364000</td>\n",
       "      <td>355000.0</td>\n",
       "      <td>335000.0</td>\n",
       "      <td>340000.0</td>\n",
       "      <td>346000.0</td>\n",
       "      <td>338000.0</td>\n",
       "      <td>344000.0</td>\n",
       "      <td>348000.0</td>\n",
       "      <td>359000.0</td>\n",
       "      <td>356000.0</td>\n",
       "      <td>380000.0</td>\n",
       "      <td>376000.0</td>\n",
       "      <td>353000.0</td>\n",
       "      <td>362000.0</td>\n",
       "    </tr>\n",
       "    <tr>\n",
       "      <th>2004-04-24</th>\n",
       "      <td>339000</td>\n",
       "      <td>364000.0</td>\n",
       "      <td>355000.0</td>\n",
       "      <td>335000.0</td>\n",
       "      <td>340000.0</td>\n",
       "      <td>346000.0</td>\n",
       "      <td>338000.0</td>\n",
       "      <td>344000.0</td>\n",
       "      <td>348000.0</td>\n",
       "      <td>359000.0</td>\n",
       "      <td>356000.0</td>\n",
       "      <td>380000.0</td>\n",
       "      <td>376000.0</td>\n",
       "      <td>353000.0</td>\n",
       "    </tr>\n",
       "    <tr>\n",
       "      <th>2004-05-01</th>\n",
       "      <td>324000</td>\n",
       "      <td>339000.0</td>\n",
       "      <td>364000.0</td>\n",
       "      <td>355000.0</td>\n",
       "      <td>335000.0</td>\n",
       "      <td>340000.0</td>\n",
       "      <td>346000.0</td>\n",
       "      <td>338000.0</td>\n",
       "      <td>344000.0</td>\n",
       "      <td>348000.0</td>\n",
       "      <td>359000.0</td>\n",
       "      <td>356000.0</td>\n",
       "      <td>380000.0</td>\n",
       "      <td>376000.0</td>\n",
       "    </tr>\n",
       "    <tr>\n",
       "      <th>2004-05-08</th>\n",
       "      <td>329000</td>\n",
       "      <td>324000.0</td>\n",
       "      <td>339000.0</td>\n",
       "      <td>364000.0</td>\n",
       "      <td>355000.0</td>\n",
       "      <td>335000.0</td>\n",
       "      <td>340000.0</td>\n",
       "      <td>346000.0</td>\n",
       "      <td>338000.0</td>\n",
       "      <td>344000.0</td>\n",
       "      <td>348000.0</td>\n",
       "      <td>359000.0</td>\n",
       "      <td>356000.0</td>\n",
       "      <td>380000.0</td>\n",
       "    </tr>\n",
       "  </tbody>\n",
       "</table>\n",
       "</div>"
      ],
      "text/plain": [
       "            claims  claims_lag1  claims_lag2  claims_lag3  claims_lag4  \\\n",
       "date                                                                     \n",
       "2004-04-10  355000     335000.0     340000.0     346000.0     338000.0   \n",
       "2004-04-17  364000     355000.0     335000.0     340000.0     346000.0   \n",
       "2004-04-24  339000     364000.0     355000.0     335000.0     340000.0   \n",
       "2004-05-01  324000     339000.0     364000.0     355000.0     335000.0   \n",
       "2004-05-08  329000     324000.0     339000.0     364000.0     355000.0   \n",
       "\n",
       "            claims_lag5  claims_lag6  claims_lag7  claims_lag8  claims_lag9  \\\n",
       "date                                                                          \n",
       "2004-04-10     344000.0     348000.0     359000.0     356000.0     380000.0   \n",
       "2004-04-17     338000.0     344000.0     348000.0     359000.0     356000.0   \n",
       "2004-04-24     346000.0     338000.0     344000.0     348000.0     359000.0   \n",
       "2004-05-01     340000.0     346000.0     338000.0     344000.0     348000.0   \n",
       "2004-05-08     335000.0     340000.0     346000.0     338000.0     344000.0   \n",
       "\n",
       "            claims_lag10  claims_lag11  claims_lag12  claims_lag13  \n",
       "date                                                                \n",
       "2004-04-10      376000.0      353000.0      362000.0      354000.0  \n",
       "2004-04-17      380000.0      376000.0      353000.0      362000.0  \n",
       "2004-04-24      356000.0      380000.0      376000.0      353000.0  \n",
       "2004-05-01      359000.0      356000.0      380000.0      376000.0  \n",
       "2004-05-08      348000.0      359000.0      356000.0      380000.0  "
      ]
     },
     "execution_count": 35,
     "metadata": {},
     "output_type": "execute_result"
    }
   ],
   "source": [
    "df=buildLaggedFeatures(df,lag=13)\n",
    "df.head()"
   ]
  },
  {
   "cell_type": "code",
   "execution_count": 36,
   "metadata": {},
   "outputs": [
    {
     "data": {
      "image/png": "[encoded data removed]",
      "text/plain": [
       "<Figure size 432x288 with 1 Axes>"
      ]
     },
     "metadata": {
      "needs_background": "light"
     },
     "output_type": "display_data"
    }
   ],
   "source": [
    "from pandas.plotting import autocorrelation_plot\n",
    "from statsmodels.graphics.tsaplots import plot_acf\n",
    "plot_acf(unemployment, lags=31)\n",
    "plt.show()"
   ]
  },
  {
   "cell_type": "code",
   "execution_count": 37,
   "metadata": {},
   "outputs": [],
   "source": [
    "from pandas import read_csv\n",
    "from pandas import DataFrame\n",
    "from pandas import concat\n",
    "from matplotlib import pyplot\n",
    "from sklearn.metrics import mean_squared_error"
   ]
  },
  {
   "cell_type": "code",
   "execution_count": 41,
   "metadata": {},
   "outputs": [
    {
     "name": "stdout",
     "output_type": "stream",
     "text": [
      "Test MSE: 3912857142.857\n"
     ]
    },
    {
     "data": {
      "image/png": "[encoded data removed]",
      "text/plain": [
       "<Figure size 432x288 with 1 Axes>"
      ]
     },
     "metadata": {
      "needs_background": "light"
     },
     "output_type": "display_data"
    }
   ],
   "source": [
    "# create lagged dataset\n",
    "values = DataFrame(df.values)\n",
    "# dataframe = concat([values.shift(1), values], axis=1)\n",
    "# split into train and test sets\n",
    "X = dataframe.values\n",
    "train, test = X[1:len(X)-7], X[len(X)-7:]\n",
    "train_X, train_y = train[:,0], train[:,1]\n",
    "test_X, test_y = test[:,0], test[:,1]\n",
    " \n",
    "# persistence model\n",
    "def model_persistence(x):\n",
    "\treturn x\n",
    " \n",
    "# walk-forward validation\n",
    "predictions = list()\n",
    "for x in test_X:\n",
    "\tyhat = model_persistence(x)\n",
    "\tpredictions.append(yhat)\n",
    "test_score = mean_squared_error(test_y, predictions)\n",
    "print('Test MSE: %.3f' % test_score)\n",
    "# plot predictions vs expected\n",
    "pyplot.plot(test_y)\n",
    "pyplot.plot(predictions, color='red')\n",
    "pyplot.show()"
   ]
  },
  {
   "cell_type": "code",
   "execution_count": 47,
   "metadata": {},
   "outputs": [
    {
     "data": {
      "text/plain": [
       "array([[728000., 765000., 768000., 798000., 833000., 782000., 803000.,\n",
       "        860000., 860000., 881000., 875000., 872000., 920000., 883000.,\n",
       "        732000., 728000., 765000., 768000., 798000., 833000., 782000.,\n",
       "        803000., 860000., 860000., 881000., 875000., 872000., 920000.],\n",
       "       [732000., 728000., 765000., 768000., 798000., 833000., 782000.,\n",
       "        803000., 860000., 860000., 881000., 875000., 872000., 920000.,\n",
       "        762000., 732000., 728000., 765000., 768000., 798000., 833000.,\n",
       "        782000., 803000., 860000., 860000., 881000., 875000., 872000.],\n",
       "       [762000., 732000., 728000., 765000., 768000., 798000., 833000.,\n",
       "        782000., 803000., 860000., 860000., 881000., 875000., 872000.,\n",
       "        719000., 762000., 732000., 728000., 765000., 768000., 798000.,\n",
       "        833000., 782000., 803000., 860000., 860000., 881000., 875000.],\n",
       "       [719000., 762000., 732000., 728000., 765000., 768000., 798000.,\n",
       "        833000., 782000., 803000., 860000., 860000., 881000., 875000.,\n",
       "        853000., 719000., 762000., 732000., 728000., 765000., 768000.,\n",
       "        798000., 833000., 782000., 803000., 860000., 860000., 881000.],\n",
       "       [853000., 719000., 762000., 732000., 728000., 765000., 768000.,\n",
       "        798000., 833000., 782000., 803000., 860000., 860000., 881000.,\n",
       "        873000., 853000., 719000., 762000., 732000., 728000., 765000.,\n",
       "        768000., 798000., 833000., 782000., 803000., 860000., 860000.],\n",
       "       [873000., 853000., 719000., 762000., 732000., 728000., 765000.,\n",
       "        768000., 798000., 833000., 782000., 803000., 860000., 860000.,\n",
       "        803000., 873000., 853000., 719000., 762000., 732000., 728000.,\n",
       "        765000., 768000., 798000., 833000., 782000., 803000., 860000.],\n",
       "       [803000., 873000., 853000., 719000., 762000., 732000., 728000.,\n",
       "        765000., 768000., 798000., 833000., 782000., 803000., 860000.,\n",
       "        763000., 803000., 873000., 853000., 719000., 762000., 732000.,\n",
       "        728000., 765000., 768000., 798000., 833000., 782000., 803000.]])"
      ]
     },
     "execution_count": 47,
     "metadata": {},
     "output_type": "execute_result"
    }
   ],
   "source": [
    "test"
   ]
  },
  {
   "cell_type": "code",
   "execution_count": null,
   "metadata": {},
   "outputs": [],
   "source": []
  }
 ],
 "metadata": {
  "kernelspec": {
   "display_name": "Python 3",
   "language": "python",
   "name": "python3"
  },
  "language_info": {
   "codemirror_mode": {
    "name": "ipython",
    "version": 3
   },
   "file_extension": ".py",
   "mimetype": "text/x-python",
   "name": "python",
   "nbconvert_exporter": "python",
   "pygments_lexer": "ipython3",
   "version": "3.8.5"
  }
 },
 "nbformat": 4,
 "nbformat_minor": 4
}

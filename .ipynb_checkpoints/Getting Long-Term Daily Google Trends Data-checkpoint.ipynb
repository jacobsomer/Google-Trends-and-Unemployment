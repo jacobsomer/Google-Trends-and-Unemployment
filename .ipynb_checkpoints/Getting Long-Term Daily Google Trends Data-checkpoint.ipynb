{
 "cells": [
  {
   "cell_type": "code",
   "execution_count": 2,
   "metadata": {},
   "outputs": [],
   "source": [
    "# importing dependencies\n",
    "import pytrends\n",
    "from pytrends.request import TrendReq\n",
    "import pandas as pd\n",
    "from datetime import date, datetime, timedelta"
   ]
  },
  {
   "cell_type": "code",
   "execution_count": 15,
   "metadata": {},
   "outputs": [],
   "source": [
    "def getData(keyword):\n",
    "    # Specify the parameters to your liking\n",
    "    startDate=\"2004-10-24\"\n",
    "    endDate=\"2020-12-26\"\n",
    "    start_date= date(2004, 10, 24) # specify your start date\n",
    "    end_date= date(2020, 12, 26) # specify your end date\n",
    "    key_word = keyword # use one key word\n",
    "    _cat = 0 # Category to narrow down your results\n",
    "    _geo = 'US' # Two letter country abbreviation\n",
    "    _gprop = '' # What Google property to filter to (e.g 'images')\n",
    "    _hl = 'en-US' # Specify Language and Region\n",
    "    _tz = 360 # specify your time-zone\n",
    "    # Source for this function: https://stackoverflow.com/questions/10688006/generate-a-list-of-datetimes-between-an-interval\n",
    "    def perdelta(start, end, delta):\n",
    "        curr = start\n",
    "        while curr < end:\n",
    "            yield curr\n",
    "            curr += delta\n",
    "    # generating a list of dates with 90 day intervals\n",
    "    dates=[]\n",
    "    for res in perdelta(start_date, end_date, timedelta(days=90)):\n",
    "        dates.append(res)  \n",
    "    dates.append(end_date)\n",
    "    # gettingt the data for the individual time frames and adding them to a list\n",
    "    appended_data = []\n",
    "    for i in range(len(dates)-1):\n",
    "        try: \n",
    "            _timeframe = str(dates[i]) + ' ' + str(dates[i+1])\n",
    "            totalTrend = TrendReq(hl=_hl, tz=_tz)\n",
    "            totalTrend.build_payload([key_word], cat=_cat, timeframe=_timeframe, geo=_geo, gprop=_gprop)\n",
    "            totalTrend = totalTrend.interest_over_time()\n",
    "            appended_data.append(totalTrend)\n",
    "        except KeyError: \n",
    "            print('Please specify the Parameters (e.g. Keyword)')\n",
    "            break\n",
    "    # correcting the values of the individual time-frames\n",
    "    for i in range(len(appended_data)-1):\n",
    "        x = appended_data[i][key_word].tail(1).values\n",
    "        y = appended_data[i+1][key_word].head(1).values\n",
    "        if x == 0 and y == 0:\n",
    "            factor = 1\n",
    "        elif x == 0:\n",
    "            factor = 0.5/y\n",
    "        elif y == 0:\n",
    "            factor = x/0.5\n",
    "        else:\n",
    "            factor = x/y\n",
    "        appended_data[i+1][key_word] = appended_data[i+1][key_word] * factor\n",
    "    # concatinating all the dfs to one complete dataframe\n",
    "    appended_df = pd.concat(appended_data, axis=0)\n",
    "    # deleting the duplicated indexes/rows\n",
    "    appended_df = appended_df[~appended_df.index.duplicated(keep='first')]\n",
    "    # saving the daily data as a csv\n",
    "    logic = {key_word:\"sum\" }\n",
    "    offset = pd.to_timedelta(-6, unit='d')\n",
    "    appended_df=appended_df.resample('W', loffset=offset).apply(logic)\n",
    "    return appended_df "
   ]
  },
  {
   "cell_type": "code",
   "execution_count": 4,
   "metadata": {},
   "outputs": [],
   "source": []
  },
  {
   "cell_type": "code",
   "execution_count": 5,
   "metadata": {},
   "outputs": [],
   "source": []
  },
  {
   "cell_type": "code",
   "execution_count": 6,
   "metadata": {},
   "outputs": [],
   "source": []
  },
  {
   "cell_type": "code",
   "execution_count": 20,
   "metadata": {},
   "outputs": [
    {
     "data": {
      "text/html": [
       "<div>\n",
       "<style scoped>\n",
       "    .dataframe tbody tr th:only-of-type {\n",
       "        vertical-align: middle;\n",
       "    }\n",
       "\n",
       "    .dataframe tbody tr th {\n",
       "        vertical-align: top;\n",
       "    }\n",
       "\n",
       "    .dataframe thead th {\n",
       "        text-align: right;\n",
       "    }\n",
       "</style>\n",
       "<table border=\"1\" class=\"dataframe\">\n",
       "  <thead>\n",
       "    <tr style=\"text-align: right;\">\n",
       "      <th></th>\n",
       "      <th>Linkedin</th>\n",
       "    </tr>\n",
       "    <tr>\n",
       "      <th>date</th>\n",
       "      <th></th>\n",
       "    </tr>\n",
       "  </thead>\n",
       "  <tbody>\n",
       "    <tr>\n",
       "      <th>2004-10-24</th>\n",
       "      <td>0.0</td>\n",
       "    </tr>\n",
       "    <tr>\n",
       "      <th>2004-10-25</th>\n",
       "      <td>0.0</td>\n",
       "    </tr>\n",
       "    <tr>\n",
       "      <th>2004-10-26</th>\n",
       "      <td>0.0</td>\n",
       "    </tr>\n",
       "    <tr>\n",
       "      <th>2004-10-27</th>\n",
       "      <td>58.0</td>\n",
       "    </tr>\n",
       "    <tr>\n",
       "      <th>2004-10-28</th>\n",
       "      <td>0.0</td>\n",
       "    </tr>\n",
       "  </tbody>\n",
       "</table>\n",
       "</div>"
      ],
      "text/plain": [
       "            Linkedin\n",
       "date                \n",
       "2004-10-24       0.0\n",
       "2004-10-25       0.0\n",
       "2004-10-26       0.0\n",
       "2004-10-27      58.0\n",
       "2004-10-28       0.0"
      ]
     },
     "execution_count": 20,
     "metadata": {},
     "output_type": "execute_result"
    }
   ],
   "source": [
    "appended_df.head()"
   ]
  },
  {
   "cell_type": "code",
   "execution_count": 26,
   "metadata": {},
   "outputs": [
    {
     "name": "stderr",
     "output_type": "stream",
     "text": [
      "<ipython-input-26-ba1f485be2d1>:5: FutureWarning: 'loffset' in .resample() and in Grouper() is deprecated.\n",
      "\n",
      ">>> df.resample(freq=\"3s\", loffset=\"8H\")\n",
      "\n",
      "becomes:\n",
      "\n",
      ">>> from pandas.tseries.frequencies import to_offset\n",
      ">>> df = df.resample(freq=\"3s\").mean()\n",
      ">>> df.index = df.index.to_timestamp() + to_offset(\"8H\")\n",
      "\n",
      "  appended_df=appended_df.resample('W', loffset=offset).apply(logic)\n"
     ]
    }
   ],
   "source": []
  },
  {
   "cell_type": "code",
   "execution_count": null,
   "metadata": {},
   "outputs": [],
   "source": []
  },
  {
   "cell_type": "code",
   "execution_count": null,
   "metadata": {},
   "outputs": [],
   "source": []
  },
  {
   "cell_type": "code",
   "execution_count": 27,
   "metadata": {},
   "outputs": [
    {
     "data": {
      "text/plain": [
       "[<matplotlib.lines.Line2D at 0x248ba352790>]"
      ]
     },
     "execution_count": 27,
     "metadata": {},
     "output_type": "execute_result"
    },
    {
     "data": {
      "image/png": "[encoded data removed]",
      "text/plain": [
       "<Figure size 432x288 with 1 Axes>"
      ]
     },
     "metadata": {
      "needs_background": "light"
     },
     "output_type": "display_data"
    }
   ],
   "source": [
    "from matplotlib import pyplot as plt\n",
    "# appended_df=appended_df.drop(columns={\"isPartial\"})\n",
    "plt.plot(appended_df)"
   ]
  },
  {
   "cell_type": "code",
   "execution_count": null,
   "metadata": {},
   "outputs": [],
   "source": []
  }
 ],
 "metadata": {
  "kernelspec": {
   "display_name": "Python 3",
   "language": "python",
   "name": "python3"
  },
  "language_info": {
   "codemirror_mode": {
    "name": "ipython",
    "version": 3
   },
   "file_extension": ".py",
   "mimetype": "text/x-python",
   "name": "python",
   "nbconvert_exporter": "python",
   "pygments_lexer": "ipython3",
   "version": "3.8.5"
  }
 },
 "nbformat": 4,
 "nbformat_minor": 2
}
